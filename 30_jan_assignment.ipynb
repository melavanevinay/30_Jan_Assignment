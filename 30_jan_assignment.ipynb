{
 "cells": [
  {
   "cell_type": "markdown",
   "id": "a42e6f57-fd32-4273-b18d-95baf7cbcdf6",
   "metadata": {},
   "source": [
    "# 30 Jan Assignment :"
   ]
  },
  {
   "cell_type": "markdown",
   "id": "5cdd18cb-6ffb-43b2-9e00-e35643cd4e34",
   "metadata": {},
   "source": [
    "## QUE 1. Write a program to accept percentage from user and display the grade according to fillowing criteria."
   ]
  },
  {
   "cell_type": "code",
   "execution_count": 3,
   "id": "bd0d01d1-c34e-49c6-8c76-fd0bae9f1492",
   "metadata": {},
   "outputs": [
    {
     "name": "stdin",
     "output_type": "stream",
     "text": [
      "Enter Your Marks :  100\n"
     ]
    },
    {
     "name": "stdout",
     "output_type": "stream",
     "text": [
      "Achieved grade is A. \n"
     ]
    }
   ],
   "source": [
    "a = int(input(\"Enter Your Marks : \"))\n",
    "\n",
    "if (100 >= a > 90) :\n",
    "    print(\"Achieved grade is A. \")\n",
    "    \n",
    "elif (a > 80 and a <= 90):\n",
    "    print(\"Achieved grade is B. \")\n",
    "    \n",
    "elif (a >= 60 and a <= 80):\n",
    "    print(\"Achieved grade is C. \")\n",
    "    \n",
    "else :\n",
    "    print(\"Achieved grade is D. \")"
   ]
  },
  {
   "cell_type": "markdown",
   "id": "8a02d803-5817-4b83-8570-7dc079ed5ef6",
   "metadata": {},
   "source": [
    "## QUE 2. Write a program to accept the cost price of a bike and display the road tax to be paid according to given criteria."
   ]
  },
  {
   "cell_type": "code",
   "execution_count": 4,
   "id": "78a16291-2e47-4793-98b8-94371e5cbe5b",
   "metadata": {},
   "outputs": [
    {
     "name": "stdin",
     "output_type": "stream",
     "text": [
      "Enter cost of the bike :  100000\n"
     ]
    },
    {
     "name": "stdout",
     "output_type": "stream",
     "text": [
      "Road tax to be paid is 10 %\n"
     ]
    }
   ],
   "source": [
    "cost = int(input(\"Enter cost of the bike : \"))\n",
    "\n",
    "if cost > 100000 :\n",
    "    print(\"Road tax to be paid is 15 %\")\n",
    "    \n",
    "elif cost > 50000 and cost <= 100000 :\n",
    "    print (\"Road tax to be paid is 10 %\")\n",
    "    \n",
    "else : \n",
    "    print (\"Road tax to be paid is 5 %\")"
   ]
  },
  {
   "cell_type": "markdown",
   "id": "2dbd0b59-d50c-4386-adf5-fe93ea84a0ad",
   "metadata": {},
   "source": [
    "## QUE 3. Accept the any city from user and and display the monuments of that city."
   ]
  },
  {
   "cell_type": "code",
   "execution_count": 5,
   "id": "dbc999a8-57fb-4b52-940b-4aa5c4e9736e",
   "metadata": {},
   "outputs": [
    {
     "name": "stdin",
     "output_type": "stream",
     "text": [
      "Enter name of city :  Agra\n"
     ]
    },
    {
     "name": "stdout",
     "output_type": "stream",
     "text": [
      "Monument is : Taj Mahal\n"
     ]
    }
   ],
   "source": [
    "city = str(input(\"Enter name of city : \"))\n",
    "\n",
    "if city == \"Delhi\":\n",
    "    print (\"Monument is : Red Fort\")\n",
    "    \n",
    "elif city == \"Agra\":\n",
    "    print (\"Monument is : Taj Mahal\")\n",
    "    \n",
    "elif city == \"Jaipur\":\n",
    "    print (\"Monument is : Jal Mahal\")"
   ]
  },
  {
   "cell_type": "markdown",
   "id": "49f526e7-ce95-4f0d-a2c1-a5a80832d8dd",
   "metadata": {},
   "source": [
    "##  QUE 4 Check how many times the given number can be devided by 3 before it is less than or equal to 10."
   ]
  },
  {
   "cell_type": "code",
   "execution_count": 14,
   "id": "d8ce3dd1-f250-447f-8692-2213f5d687e9",
   "metadata": {},
   "outputs": [
    {
     "name": "stdin",
     "output_type": "stream",
     "text": [
      "Enter number :  45\n"
     ]
    },
    {
     "name": "stdout",
     "output_type": "stream",
     "text": [
      "[15.0, 5.0]\n",
      "The number can be devided  2 times by 3.\n"
     ]
    }
   ],
   "source": [
    "num = int(input(\"Enter number : \"))\n",
    "\n",
    "count = 0\n",
    "b = 0\n",
    "l= []\n",
    "while num >= 10:\n",
    "    num = num/3\n",
    "    l.append(num)\n",
    "    count = count + 1\n",
    "    \n",
    "print (l)\n",
    "print(\"The number can be devided \", count , \"times by 3.\")\n"
   ]
  },
  {
   "cell_type": "markdown",
   "id": "554e2ea1-dbf8-4861-a8ad-686abba0f244",
   "metadata": {},
   "source": [
    "## QUE 5 Why and when we use while loop in python. Give detail description with example."
   ]
  },
  {
   "cell_type": "markdown",
   "id": "79ee7492-a047-4d8a-a899-45b1635cc618",
   "metadata": {},
   "source": [
    "### 1. Automate and repeate task :\n",
    "#### While loop execute block of code over and over again until the given condition is mate. It allows to automate and repeat task efficiently."
   ]
  },
  {
   "cell_type": "markdown",
   "id": "3c5132cf-e3f2-411b-bdc7-f0ac45c4c87e",
   "metadata": {},
   "source": [
    "### 2. Indefinite iterations : \n",
    "#### While loop will run as often as necessary to complete perticular task. When the number of iterations are unknown before execution, while loop is used insted of for loop."
   ]
  },
  {
   "cell_type": "markdown",
   "id": "b1166279-09ca-4d1b-86c2-167f261e6b0a",
   "metadata": {},
   "source": [
    "### 3. Reduce complexity : \n",
    "#### while loop is easy to write. using the loop, we don’t need to write the statements again and again. Instead, we can write statements we wanted to execute again and again inside the body of the loop thus, reducing the complexity of the code."
   ]
  },
  {
   "cell_type": "markdown",
   "id": "3542f5a6-32b3-4a37-a7f6-ac54c8395dfa",
   "metadata": {},
   "source": [
    "### 4. Infinite loop : \n",
    "####  If the code inside the while loop doesn’t modify the variables being tested in the loop condition, the loop will run forever."
   ]
  },
  {
   "cell_type": "code",
   "execution_count": 16,
   "id": "d143af2c-f5cf-40f6-b6f0-293e3a9e5e5d",
   "metadata": {},
   "outputs": [
    {
     "name": "stdout",
     "output_type": "stream",
     "text": [
      "1000\n",
      "900\n",
      "800\n",
      "700\n",
      "600\n",
      "500\n",
      "400\n",
      "300\n",
      "200\n",
      "100\n",
      "0\n",
      "money Exhausted\n"
     ]
    }
   ],
   "source": [
    "money=1000\n",
    "while(money>=0):\n",
    "    print(money)\n",
    "    money=money-100\n",
    "else:\n",
    "    print(\"money Exhausted\")"
   ]
  },
  {
   "cell_type": "markdown",
   "id": "7810612e-34f4-4f85-b54b-e57bd2be3f3b",
   "metadata": {},
   "source": [
    "## QUE 6 Use nested while loop to print 3 different pattern."
   ]
  },
  {
   "cell_type": "code",
   "execution_count": 1,
   "id": "bddfe63d-83e3-4095-bed0-966132f6eb3d",
   "metadata": {},
   "outputs": [
    {
     "name": "stdout",
     "output_type": "stream",
     "text": [
      "1 \n",
      "1 2 \n",
      "1 2 3 \n",
      "1 2 3 4 \n",
      "1 2 3 4 5 \n"
     ]
    }
   ],
   "source": [
    "i = 1\n",
    "while i <= 5:\n",
    "    j = 1\n",
    "    while j <= i:\n",
    "        print (j , end=\" \")\n",
    "        j=j+1\n",
    "    print (\"\")\n",
    "    i = i + 1"
   ]
  },
  {
   "cell_type": "markdown",
   "id": "b51e7ba4-d231-4879-b524-0427bd8edb21",
   "metadata": {},
   "source": [
    "## QUE 7 Reverse a while loop to display numbers from 10 to 1."
   ]
  },
  {
   "cell_type": "code",
   "execution_count": null,
   "id": "86d09210-78ed-41a1-b52a-4644c27fb72f",
   "metadata": {},
   "outputs": [],
   "source": [
    "n = 10\n",
    "while n > 0:\n",
    "    print (n)\n",
    "    n = n - 1\n",
    "    "
   ]
  }
 ],
 "metadata": {
  "kernelspec": {
   "display_name": "Python 3 (ipykernel)",
   "language": "python",
   "name": "python3"
  },
  "language_info": {
   "codemirror_mode": {
    "name": "ipython",
    "version": 3
   },
   "file_extension": ".py",
   "mimetype": "text/x-python",
   "name": "python",
   "nbconvert_exporter": "python",
   "pygments_lexer": "ipython3",
   "version": "3.10.8"
  }
 },
 "nbformat": 4,
 "nbformat_minor": 5
}
